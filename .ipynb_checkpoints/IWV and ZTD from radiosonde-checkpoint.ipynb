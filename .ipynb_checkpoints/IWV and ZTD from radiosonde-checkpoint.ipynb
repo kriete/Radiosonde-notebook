{
 "cells": [
  {
   "cell_type": "markdown",
   "metadata": {
    "collapsed": true
   },
   "source": [
    "# Radiosonde data to refractivity / IWV"
   ]
  },
  {
   "cell_type": "markdown",
   "metadata": {},
   "source": [
    "IWV in $\\frac{kg}{m^2}$ is defined as integral along the mean density of water vapor [kg/m^-3] for each layer."
   ]
  },
  {
   "cell_type": "markdown",
   "metadata": {},
   "source": [
    "$$IWV=\\int_{h1}^{h2}\\rho_v dh=\\sum_{i=1}^{n}\\rho_{d,i}r_i\\Delta h_i$$"
   ]
  },
  {
   "cell_type": "markdown",
   "metadata": {},
   "source": [
    "With $\\rho_v$ the mean density of water vapor for each layer in $\\frac{kg}{m^3}$, $dh$ the height difference between each layer, $\\rho_d$ the dry air density in Pa, $r$ the mixing ratio of the water vapor mass to the mass of dry air (dimensionless) and $\\Delta h_i$ the altitude steps in meter. "
   ]
  },
  {
   "cell_type": "markdown",
   "metadata": {},
   "source": [
    "Neglecting the altitude step $i$ for simplicity, the dry air density $\\rho_d$ may be expressed as:\n",
    "$$\\rho_d=\\frac{P}{R_dT}$$\n",
    "Where $P$ is the observed air pressure in Pa, $R_d$ the specific gas constant for dry air: $R_d =287.058\\frac{J}{kg K}$ and $T$ the measured temperature in $K$."
   ]
  },
  {
   "cell_type": "markdown",
   "metadata": {},
   "source": [
    "The mixing ratio $r$ may be expressed as:\n",
    "$$r=0.622\\frac{e}{P-e}$$\n",
    "With $e$ the vapor pressure and P the air pressure. Together with the relative humidity (RH) measurements the vapor pressure is defined as:\n",
    "$$e=\\frac{RH\\cdot e_{sat}}{100}$$\n",
    "and $e_{sat}$, the saturation vapor pressure, as:\n",
    "$$e_{sat}=6.112[Pa]\\cdot exp(\\frac{17.62T}{243.12+T})$$\n",
    "With T in degree Celsius!"
   ]
  },
  {
   "cell_type": "markdown",
   "metadata": {},
   "source": [
    "The relationship between IWV and Precipitable Water Vapor (PWV) in mm:\n",
    "$$PWV=\\frac{IWV}{\\rho}$$\n",
    "with $\\rho$ defined as the density of liquid water."
   ]
  },
  {
   "cell_type": "markdown",
   "metadata": {},
   "source": [
    "The refractivity can be expressed as:"
   ]
  },
  {
   "cell_type": "markdown",
   "metadata": {},
   "source": [
    "$$N=77.6\\cdot \\frac{P}{T} + 3.73\\cdot 10^5 \\frac{e}{T^2}$$"
   ]
  },
  {
   "cell_type": "markdown",
   "metadata": {},
   "source": [
    "with $T$ in K."
   ]
  },
  {
   "cell_type": "markdown",
   "metadata": {},
   "source": [
    "## Example dataset deBilt (Netherlands) 23.06.2017"
   ]
  },
  {
   "cell_type": "markdown",
   "metadata": {},
   "source": [
    "We will now compute the IWV and Refractivity for a dataset sample in June 2017 from a radiosonde measurement."
   ]
  },
  {
   "cell_type": "markdown",
   "metadata": {},
   "source": [
    "The data is extracted from the igra2 archive. This day was dominated by heavy rainfall."
   ]
  },
  {
   "cell_type": "code",
   "execution_count": 1,
   "metadata": {
    "collapsed": true
   },
   "outputs": [],
   "source": [
    "import numpy as np"
   ]
  },
  {
   "cell_type": "code",
   "execution_count": 2,
   "metadata": {},
   "outputs": [],
   "source": [
    "pres = np.array([1020, 1000, 997, 925, 850, 830, 751, 716, 700, 673, 633, 574, 538, 500, 468, 400, 399, 324, 300, 279, 274, 250, 229, 227, 223, 212, 203, 200, 167, 152, 150, 133, 100])\n",
    "gph = np.array([2, 173, 201, 845, 1566, 1769, 2598, 2989, 3173, 3499, 3989, 4759, 5260, 5819, 6330, 7495, 7518, 9003, 9534, 10021, 10142, 10751, 11322, 11379, 11494, 11825, 12110, 12207, 13370, 13972, 14057, 14827, 16633])\n",
    "temp = np.array([20.8500000000000, 22.2500000000000, 22.4500000000000, 18.4500000000000, 13.6500000000000, 11.8500000000000, 8.45000000000005, 5.05000000000001, 4.45000000000005, 2.45000000000005, -1.64999999999998, -6.64999999999998, -11.0500000000000, -13.6500000000000, -15.8500000000000, -23.2500000000000, -23.2500000000000, -35.4500000000000, -39.6500000000000, -44.0500000000000, -44.2500000000000, -48.2500000000000, -52.2500000000000, -52.2500000000000, -51.0500000000000, -48.0500000000000, -49.4500000000000, -50.2500000000000, -56.2500000000000, -53.0500000000000, -53.6500000000000, -56.8500000000000, -56.6500000000000])\n",
    "rh = np.array([84, 73.3000000000000, 68.8000000000000, 74.6000000000000, 75.2000000000000, 82.4000000000000, 61.3000000000000, 90.6000000000000, 78.5000000000000, 69.5000000000000, 98.5000000000000, 76.7000000000000, 84.5000000000000, 84.8000000000000, 84.6000000000000, 78.5000000000000, 77.1000000000000, 72.5000000000000, 63.6000000000000, 60.2000000000000, 62.3000000000000, 61.8000000000000, 48.5000000000000, 37.8000000000000, 0.900000000000000, 4.70000000000000, 12.1000000000000, 11.9000000000000, 6.60000000000000, 1.10000000000000, 1.10000000000000, 0.900000000000000, 0.900000000000000])"
   ]
  },
  {
   "cell_type": "code",
   "execution_count": 3,
   "metadata": {
    "collapsed": true
   },
   "outputs": [],
   "source": [
    "%matplotlib inline\n",
    "import matplotlib.pyplot as plt"
   ]
  },
  {
   "cell_type": "markdown",
   "metadata": {},
   "source": [
    "Temp - geopotential height"
   ]
  },
  {
   "cell_type": "code",
   "execution_count": 4,
   "metadata": {},
   "outputs": [
    {
     "data": {
      "text/plain": [
       "[<matplotlib.lines.Line2D at 0x7f42c2b260b8>]"
      ]
     },
     "execution_count": 4,
     "metadata": {},
     "output_type": "execute_result"
    },
    {
     "data": {
      "image/png": "[encoded data removed]",
      "text/plain": [
       "<matplotlib.figure.Figure at 0x7f42c4df5dd8>"
      ]
     },
     "metadata": {},
     "output_type": "display_data"
    }
   ],
   "source": [
    "plt.plot(temp, gph)"
   ]
  },
  {
   "cell_type": "markdown",
   "metadata": {},
   "source": [
    "Pres - geopotential height"
   ]
  },
  {
   "cell_type": "code",
   "execution_count": 5,
   "metadata": {},
   "outputs": [
    {
     "data": {
      "text/plain": [
       "[<matplotlib.lines.Line2D at 0x7f42c2a65978>]"
      ]
     },
     "execution_count": 5,
     "metadata": {},
     "output_type": "execute_result"
    },
    {
     "data": {
      "image/png": "[encoded data removed]",
      "text/plain": [
       "<matplotlib.figure.Figure at 0x7f42c7797860>"
      ]
     },
     "metadata": {},
     "output_type": "display_data"
    }
   ],
   "source": [
    "plt.plot(pres, gph)"
   ]
  },
  {
   "cell_type": "markdown",
   "metadata": {},
   "source": [
    "RH - geopotential height"
   ]
  },
  {
   "cell_type": "code",
   "execution_count": 6,
   "metadata": {},
   "outputs": [
    {
     "data": {
      "text/plain": [
       "[<matplotlib.lines.Line2D at 0x7f42c2a53860>]"
      ]
     },
     "execution_count": 6,
     "metadata": {},
     "output_type": "execute_result"
    },
    {
     "data": {
      "image/png": "[encoded data removed]",
      "text/plain": [
       "<matplotlib.figure.Figure at 0x7f42c2a913c8>"
      ]
     },
     "metadata": {},
     "output_type": "display_data"
    }
   ],
   "source": [
    "plt.plot(rh, gph)"
   ]
  },
  {
   "cell_type": "markdown",
   "metadata": {},
   "source": [
    "Now we convert the data to IWV:"
   ]
  },
  {
   "cell_type": "code",
   "execution_count": 7,
   "metadata": {
    "collapsed": true
   },
   "outputs": [],
   "source": [
    "alt = gph"
   ]
  },
  {
   "cell_type": "code",
   "execution_count": 8,
   "metadata": {},
   "outputs": [],
   "source": [
    "e_sat = 0.611*np.exp((17.2694*temp)/(temp+273.15-35.86))\n",
    "e_sat = e_sat*10\n",
    "vap_pres = rh*e_sat/100\n",
    "Md = 0.0289644\n",
    "R = 8.31432\n",
    "p_dry = (Md/R)*((pres*100)/(temp+273.15))\n",
    "mix_rat = 0.622*(vap_pres/(pres))"
   ]
  },
  {
   "cell_type": "code",
   "execution_count": 9,
   "metadata": {},
   "outputs": [],
   "source": [
    "iwv = 0\n",
    "iwv_store = np.array([])\n",
    "for x in range(0,len(e_sat)-1):\n",
    "    cur_iwv = (p_dry[x]*mix_rat[x]*(alt[x+1]-alt[x]))\n",
    "    iwv = iwv + cur_iwv\n",
    "    iwv_store = np.append(iwv_store, cur_iwv)"
   ]
  },
  {
   "cell_type": "code",
   "execution_count": 10,
   "metadata": {},
   "outputs": [],
   "source": [
    "N = 77.6*(pres/(temp+273.15)) + 3.73*10**5*(vap_pres/(temp+273.15)**2)"
   ]
  },
  {
   "cell_type": "code",
   "execution_count": 11,
   "metadata": {},
   "outputs": [],
   "source": [
    "ZTD = 0\n",
    "for x in range(0,len(pres)-1):\n",
    "    ZTD = ZTD+ ((N[x]*alt[x+1]) - (N[x]*alt[x]))\n",
    "ZTD = 10**-6*ZTD"
   ]
  },
  {
   "cell_type": "markdown",
   "metadata": {},
   "source": [
    "IWV along vertical track:"
   ]
  },
  {
   "cell_type": "code",
   "execution_count": 12,
   "metadata": {},
   "outputs": [
    {
     "data": {
      "text/plain": [
       "[<matplotlib.lines.Line2D at 0x7f42c29cce10>]"
      ]
     },
     "execution_count": 12,
     "metadata": {},
     "output_type": "execute_result"
    },
    {
     "data": {
      "image/png": "[encoded data removed]",
      "text/plain": [
       "<matplotlib.figure.Figure at 0x7f42c2b5bf28>"
      ]
     },
     "metadata": {},
     "output_type": "display_data"
    }
   ],
   "source": [
    "plt.plot(iwv_store, gph[0:-1])"
   ]
  },
  {
   "cell_type": "markdown",
   "metadata": {},
   "source": [
    "IWV accumulated:"
   ]
  },
  {
   "cell_type": "code",
   "execution_count": 13,
   "metadata": {},
   "outputs": [
    {
     "data": {
      "text/plain": [
       "45.055848440752555"
      ]
     },
     "execution_count": 13,
     "metadata": {},
     "output_type": "execute_result"
    }
   ],
   "source": [
    "iwv"
   ]
  },
  {
   "cell_type": "markdown",
   "metadata": {},
   "source": [
    "ZTD from refractivity N:"
   ]
  },
  {
   "cell_type": "code",
   "execution_count": 14,
   "metadata": {},
   "outputs": [
    {
     "data": {
      "text/plain": [
       "2.4592196291858173"
      ]
     },
     "execution_count": 14,
     "metadata": {},
     "output_type": "execute_result"
    }
   ],
   "source": [
    "ZTD"
   ]
  },
  {
   "cell_type": "code",
   "execution_count": null,
   "metadata": {
    "collapsed": true
   },
   "outputs": [],
   "source": []
  }
 ],
 "metadata": {
  "kernelspec": {
   "display_name": "Python 3",
   "language": "python",
   "name": "python3"
  },
  "language_info": {
   "codemirror_mode": {
    "name": "ipython",
    "version": 3
   },
   "file_extension": ".py",
   "mimetype": "text/x-python",
   "name": "python",
   "nbconvert_exporter": "python",
   "pygments_lexer": "ipython3",
   "version": "3.5.3"
  }
 },
 "nbformat": 4,
 "nbformat_minor": 1
}
