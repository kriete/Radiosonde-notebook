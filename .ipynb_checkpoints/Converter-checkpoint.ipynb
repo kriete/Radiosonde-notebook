{
 "cells": [
  {
   "cell_type": "markdown",
   "metadata": {
    "collapsed": true
   },
   "source": [
    "# Radiosonde data to refractivity / IWV"
   ]
  },
  {
   "cell_type": "markdown",
   "metadata": {},
   "source": [
    "IWV in $\\frac{kg}{m^2}$ is defined as integral along the mean density of water vapor [kg/m^-3] for each layer."
   ]
  },
  {
   "cell_type": "markdown",
   "metadata": {},
   "source": [
    "$$IWV=\\int_{h1}^{h2}\\rho_v dh=\\sum_{i=1}^{n}\\rho_{d,i}r_i\\Delta h_i$$"
   ]
  },
  {
   "cell_type": "markdown",
   "metadata": {},
   "source": [
    "With $\\rho_v$ the mean density of water vapor for each layer in $\\frac{kg}{m^3}$, $dh$ the height difference between each layer, $\\rho_d$ the dry air density in Pa, $r$ the mixing ratio of the water vapor mass to the mass of dry air (dimensionless) and $\\Delta h_i$ the altitude steps in meter. "
   ]
  },
  {
   "cell_type": "markdown",
   "metadata": {},
   "source": [
    "Neglecting the altitude step $i$ for simplicity, the dry air density $\\rho_d$ may be expressed as:\n",
    "$$\\rho_d=\\frac{P}{R_dT}$$\n",
    "Where $P$ is the observed air pressure in Pa, $R_d$ the specific gas constant for dry air: $R_d =287.058\\frac{J}{kg K}$ and $T$ the measured temperature in $K$."
   ]
  },
  {
   "cell_type": "markdown",
   "metadata": {},
   "source": [
    "The mixing ratio $r$ may be expressed as:\n",
    "$$r=0.622\\frac{e}{P-e}$$\n",
    "With $e$ the vapor pressure and P the air pressure. Together with the relative humidity (RH) measurements the vapor pressure is defined as:\n",
    "$$e=\\frac{RH\\cdot e_{sat}}{100}$$\n",
    "and $e_{sat}$, the saturation vapor pressure, as:\n",
    "$$e_{sat}=6.112[Pa]\\cdot exp(\\frac{17.62T}{243.12+T})$$\n",
    "With T in degree Celsius!"
   ]
  },
  {
   "cell_type": "markdown",
   "metadata": {},
   "source": [
    "The relationship between IWV and Precipitable Water Vapor (PWV) in mm:\n",
    "$$PWV=\\frac{IWV}{\\rho}$$\n",
    "with $\\rho$ defined as the density of liquid water."
   ]
  },
  {
   "cell_type": "markdown",
   "metadata": {},
   "source": [
    "## Example dataset deBilt (Netherlands) 23.06.2017"
   ]
  },
  {
   "cell_type": "markdown",
   "metadata": {},
   "source": [
    "We will now compute the IWV and Refractivity for a dataset sample in June 2017 from a radiosonde measurement."
   ]
  },
  {
   "cell_type": "markdown",
   "metadata": {},
   "source": []
  }
 ],
 "metadata": {
  "kernelspec": {
   "display_name": "Python 3",
   "language": "python",
   "name": "python3"
  },
  "language_info": {
   "codemirror_mode": {
    "name": "ipython",
    "version": 3
   },
   "file_extension": ".py",
   "mimetype": "text/x-python",
   "name": "python",
   "nbconvert_exporter": "python",
   "pygments_lexer": "ipython3",
   "version": "3.5.3"
  }
 },
 "nbformat": 4,
 "nbformat_minor": 1
}
